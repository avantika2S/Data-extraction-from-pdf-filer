{
  "nbformat": 4,
  "nbformat_minor": 0,
  "metadata": {
    "colab": {
      "name": "data extraction from pdf file.ipynb",
      "provenance": [],
      "collapsed_sections": []
    },
    "kernelspec": {
      "name": "python3",
      "display_name": "Python 3"
    }
  },
  "cells": [
    {
      "cell_type": "markdown",
      "metadata": {
        "id": "vYp8yLiakMY4"
      },
      "source": [
        "# **Converted** **Pdf** **file** **in** **to** **txt** **file** **for** **better** **Pre**-**processing**"
      ]
    },
    {
      "cell_type": "code",
      "metadata": {
        "id": "zkqgDRm7QRD6",
        "outputId": "d0994610-68f6-4ff9-dcdb-999ae271a081",
        "colab": {
          "base_uri": "https://localhost:8080/"
        }
      },
      "source": [
        "pip install PyPDF2"
      ],
      "execution_count": 114,
      "outputs": [
        {
          "output_type": "stream",
          "text": [
            "Requirement already satisfied: PyPDF2 in /usr/local/lib/python3.6/dist-packages (1.26.0)\n"
          ],
          "name": "stdout"
        }
      ]
    },
    {
      "cell_type": "code",
      "metadata": {
        "id": "Zy9BgIQDQvHM"
      },
      "source": [
        "import PyPDF2"
      ],
      "execution_count": 115,
      "outputs": []
    },
    {
      "cell_type": "markdown",
      "metadata": {
        "id": "KYZW9EdZhu4a"
      },
      "source": [
        "# **Reading** **Pdf** **file**"
      ]
    },
    {
      "cell_type": "code",
      "metadata": {
        "id": "fr024Na2RPBX"
      },
      "source": [
        "file=open('random.pdf', 'rb')  #open allows you to read the file"
      ],
      "execution_count": 120,
      "outputs": []
    },
    {
      "cell_type": "code",
      "metadata": {
        "id": "XT3wC00xRCDt"
      },
      "source": [
        "import PyPDF2\n",
        "x= PyPDF2.PdfFileReader('random.pdf')   #The pdfReader variable is a readable object that will be parsed"
      ],
      "execution_count": 121,
      "outputs": []
    },
    {
      "cell_type": "markdown",
      "metadata": {
        "id": "MxRj7ul9ih_4"
      },
      "source": [
        " **Total** **no**. **of** **pages**"
      ]
    },
    {
      "cell_type": "code",
      "metadata": {
        "id": "--UAjUTDRCaI",
        "outputId": "cda943e5-5b10-444a-c105-425babc9ae93",
        "colab": {
          "base_uri": "https://localhost:8080/"
        }
      },
      "source": [
        "print(x.documentInfo)\n",
        "print(x.getNumPages())"
      ],
      "execution_count": 122,
      "outputs": [
        {
          "output_type": "stream",
          "text": [
            "{'/Author': 'Avantika Sahu', '/Creator': 'Microsoft® Word 2019', '/CreationDate': \"D:20201105203308+05'30'\", '/ModDate': \"D:20201105203308+05'30'\", '/Producer': 'Microsoft® Word 2019'}\n",
            "10\n"
          ],
          "name": "stdout"
        }
      ]
    },
    {
      "cell_type": "code",
      "metadata": {
        "id": "X1kutr1aQ-Pd",
        "outputId": "e2c778dd-6029-4355-e4e5-e2c19873ef90",
        "colab": {
          "base_uri": "https://localhost:8080/"
        }
      },
      "source": [
        "print(x.getPage(9))"
      ],
      "execution_count": 124,
      "outputs": [
        {
          "output_type": "stream",
          "text": [
            "{'/Type': '/Page', '/Parent': IndirectObject(2, 0), '/Resources': {'/ExtGState': {'/GS5': IndirectObject(5, 0), '/GS8': IndirectObject(8, 0)}, '/Font': {'/F1': IndirectObject(6, 0), '/F4': IndirectObject(65, 0), '/F6': IndirectObject(104, 0)}, '/ProcSet': ['/PDF', '/Text', '/ImageB', '/ImageC', '/ImageI']}, '/Annots': [IndirectObject(89, 0), IndirectObject(90, 0), IndirectObject(91, 0), IndirectObject(92, 0), IndirectObject(93, 0), IndirectObject(94, 0), IndirectObject(95, 0), IndirectObject(96, 0), IndirectObject(97, 0), IndirectObject(98, 0), IndirectObject(99, 0), IndirectObject(100, 0), IndirectObject(101, 0), IndirectObject(102, 0), IndirectObject(103, 0)], '/MediaBox': [0, 0, 612, 792], '/Contents': IndirectObject(88, 0), '/Group': {'/Type': '/Group', '/S': '/Transparency', '/CS': '/DeviceRGB'}, '/Tabs': '/S', '/StructParents': 60}\n"
          ],
          "name": "stdout"
        }
      ]
    },
    {
      "cell_type": "code",
      "metadata": {
        "id": "z-DhBpkRegR2",
        "outputId": "757b6ee9-a48f-4942-86a4-dac02594e584",
        "colab": {
          "base_uri": "https://localhost:8080/"
        }
      },
      "source": [
        "x.getIsEncrypted"
      ],
      "execution_count": 125,
      "outputs": [
        {
          "output_type": "execute_result",
          "data": {
            "text/plain": [
              "<bound method PdfFileReader.getIsEncrypted of <PyPDF2.pdf.PdfFileReader object at 0x7f64f70ba128>>"
            ]
          },
          "metadata": {
            "tags": []
          },
          "execution_count": 125
        }
      ]
    },
    {
      "cell_type": "markdown",
      "metadata": {
        "id": "oCkILqMZitDx"
      },
      "source": [
        "**Extract** **data** **from** **any** **page** **no**.**bold text**"
      ]
    },
    {
      "cell_type": "code",
      "metadata": {
        "id": "7lgh0rd0UMUE",
        "outputId": "4f0e50e6-80de-4a70-b5dc-a040ca2c108c",
        "colab": {
          "base_uri": "https://localhost:8080/"
        }
      },
      "source": [
        "page=x.getPage(9)\n",
        "page_number=x.getPageNumber(page)\n",
        "print(page_number)"
      ],
      "execution_count": 126,
      "outputs": [
        {
          "output_type": "stream",
          "text": [
            "9\n"
          ],
          "name": "stdout"
        }
      ]
    },
    {
      "cell_type": "code",
      "metadata": {
        "id": "8bLE19uzZkgU",
        "outputId": "94902450-ae20-429d-c3eb-3ee7b24ddc2c",
        "colab": {
          "base_uri": "https://localhost:8080/"
        }
      },
      "source": [
        "page_content=page.extractText()\n",
        "print(page_content)"
      ],
      "execution_count": 127,
      "outputs": [
        {
          "output_type": "stream",
          "text": [
            "intentions to run as early as the Spring o\n",
            "f the previous \n",
            "calendar year so they can start raising and spending the \n",
            "money needed for their nationwide campaign.\n",
            " \n",
            " \n",
            "Political parties\n",
            " \n",
            "The f\n",
            "irst president,\n",
            " \n",
            "George Washington\n",
            ", was elected as \n",
            "an\n",
            " \n",
            "independent\n",
            ". Since the election of his successor,\n",
            " \n",
            "John \n",
            "Adams\n",
            ", in\n",
            " \n",
            "1796\n",
            ", all winners of U.S. presidential elections \n",
            "have represented one of two major parties.\n",
            " \n",
            "Third \n",
            "parties\n",
            " \n",
            "have taken second place only twice, \n",
            "in\n",
            " \n",
            "1860\n",
            " \n",
            "and\n",
            " \n",
            "1912\n",
            ". The last time a third (independent) \n",
            "candidate achieved significant success (although still \n",
            "finishing in third place) was\n",
            " \n",
            "Ross Perot\n",
            " \n",
            "in\n",
            " \n",
            "1992\n",
            ", and the \n",
            "last time a third\n",
            "-\n",
            "party \n",
            "candidate received any electoral \n",
            "votes not from\n",
            " \n",
            "faithless electors\n",
            " \n",
            "was\n",
            " \n",
            "George \n",
            "Wallace\n",
            " \n",
            "in\n",
            " \n",
            "1968\n",
            ".\n",
            " \n",
            " \n",
            " \n",
            " \n",
            "\n"
          ],
          "name": "stdout"
        }
      ]
    },
    {
      "cell_type": "markdown",
      "metadata": {
        "id": "n0EYYQKOjDjU"
      },
      "source": [
        "# Pdf in to text file to read Data"
      ]
    },
    {
      "cell_type": "code",
      "metadata": {
        "id": "NpYNmJMIUgcZ"
      },
      "source": [
        "str=\"\"\n",
        "for i in range (1,9):\n",
        "    str+=x.getPage(i).extractText()  #The for loop will read each page"
      ],
      "execution_count": 128,
      "outputs": []
    },
    {
      "cell_type": "code",
      "metadata": {
        "id": "TM5f-cJ1Una3"
      },
      "source": [
        "with open(\"text.txt\", \"w\", encoding='utf-8') as f:\n",
        "     f.write(str)"
      ],
      "execution_count": 129,
      "outputs": []
    },
    {
      "cell_type": "code",
      "metadata": {
        "id": "k6Dwp1ajXqsa",
        "outputId": "f95a6195-f5f0-4d13-9b58-f63eb61b49a9",
        "colab": {
          "base_uri": "https://localhost:8080/"
        }
      },
      "source": [
        "pip install regex"
      ],
      "execution_count": 130,
      "outputs": [
        {
          "output_type": "stream",
          "text": [
            "Requirement already satisfied: regex in /usr/local/lib/python3.6/dist-packages (2019.12.20)\n"
          ],
          "name": "stdout"
        }
      ]
    },
    {
      "cell_type": "code",
      "metadata": {
        "id": "YgC7qc0YX8pd"
      },
      "source": [
        "file1=open('text.txt', 'rb')"
      ],
      "execution_count": 131,
      "outputs": []
    },
    {
      "cell_type": "code",
      "metadata": {
        "id": "J911N0HJYGpo",
        "outputId": "35f3e0ab-4bca-4d82-b34d-9f7ea2826d5c",
        "colab": {
          "base_uri": "https://localhost:8080/"
        }
      },
      "source": [
        "print(file1.read())"
      ],
      "execution_count": 132,
      "outputs": [
        {
          "output_type": "stream",
          "text": [
            "b'around the globe. The collective pieces of\\n \\ninformation \\npublished in the newspaper are gained by covering the \\nevents by journalists. It is the efforts of the print media \\nteam for benefitting the world with the newspaper.\\n \\nA newspaper is the gift of print media to all humans. For \\ntravel\\n-\\nfreaks newsp\\napers is helpful by publishing travel \\nand tourism columns. Various columns like missing reports \\nsometimes help people for finding their lost dear ones. A \\nnewspaper also covers obituaries columns for paying \\nrespect to demise. There is a number of columns in\\n \\na \\nsingle newspaper. News is beneficial for all of us. \\nDeveloping the habit of reading newspaper on daily basis \\ncan develop the intellectual side of all.\\n \\nLike other tools of Mass, Media Newspaper is also carrying \\na historical approach. In\\n \\nHan\\n-\\nSang Dynasty\\n,\\n \\nChina\\'s first \\nform of Newspaper (called Dibao) was founded. The \\nNewspaper was in written/calligraphy form at that time \\nand it was used for official purposes only.\\n \\nAfter various reforms in the techniques of publishing \\nnewspapers, Britain and America invent\\ned mass \\nproduction of newspapers. In the 17th Century in Britain, \\nthe rise of the printing press (Guttenberg) introduced the \\nfirst set of sheets of newspaper.\\n \\nThe German Newspaper by\\n \\nJohann Carolus\\n \\nis said to be \\nthe first newspaper in world history. In Ind\\nia,\\n \\nBengal \\nGazette\\n \\nis the first news published in the colonial period. \\nThe newspaper we read today is carrying a journey of \\nvarious dynasties\\n \\n\\nNewspape\\nr is the best example of it. Various Famous \\njournalists raise their voices against national and \\ninternational issues via publishing their articles in \\nnewspapers. The\\n \\nword Newspaper is taken from the Latin \\n\\nis the \\nsource of employment for worldwide people. It comprises \\nof Business, Sports, Food and Health and other informative \\ncolumns. Newspapers these days are getting more and \\nmore advanced as they are carrying information about the \\nevent, live streaming new\\ns about famous web\\n-\\nbased \\nportals, \\netc. It\\n \\nis the greatest weapon of print media by the \\nportrayal of selective words on sheets of paper. Local, \\nRegional, National and International events and \\nhappenings are covered in newspapers. News related to \\nmythologica\\nl and religious beliefs is also covered by the \\n\\ntasteful set of papers carrying greatest knowledge and \\n\\nthe events going around in the \\nworld.\\n \\nA\\n \\nnewspaper\\n \\nis the \\nsource of information in this fast\\n-\\nmoving world. It \\npublished on a daily, weekly or sometimes monthly basis. \\nIt contains pages depicting the data about local, national \\nand world information. Newspapers are printed almost in \\nevery language. In India\\n, Newspapers are printed in Hindi, \\nEnglish, and Urdu and various regional \\nlanguages. An\\n \\naverage paper consists of a minimum of 500 words for an \\narticle. The average Page limit varies from 20 to 25 pages. \\nBlack ink is used for printing a paper. Generally, \\nn\\newspapers are printed on a white, grey or off\\n-\\nwhite \\nbackground. Pictorial representation of newspapers is \\ncolorful. Newspapers are helpful for every age group as it \\ncontains advertisements regarding employment, real \\nestates, matrimony and for students, it \\ncontains various \\neducational columns.\\n \\nThe\\n \\nelection of the president and the vice president of the \\nUnited States\\n \\nis an\\n \\nindirect election\\n \\nin which\\n \\ncitizens of the \\nUnited States\\n \\nwho are\\n \\nregistered to vote\\n \\nin one of the \\nfifty\\n \\nU.S. states\\n \\nor in\\n \\nWashington, D.C.\\n, cast ballots not\\n \\ndirectly for those offices, but instead for members of \\nthe\\n \\nElectoral College\\n \\nThese electors then cast direct votes, \\nknown as electoral votes, for\\n \\npresident\\n, and for\\n \\nv\\nice \\npresident\\n. The candidate who receives an\\n \\nabsolute \\nmajority\\n \\nof electoral votes (at least 270 out of 538, since \\nthe\\n \\nTwenty\\n-\\nThird Amendment\\n \\ngranted voting rights to \\ncitizens of D.C.) is then elected to that office. If no \\ncandidate receives an absolute majorit\\ny of the votes for \\npresident, the\\n \\nHouse of Representatives\\n \\nchooses the most \\nqualifying candidate for the presidency; if no one \\nreceives \\nan absolute majority of the votes for vice president, then \\nthe\\n \\nSenate\\n \\nelects the vice president.\\n \\nThe Electoral College and its procedure are established i\\nn \\nthe\\n \\nU.S. Constitution\\n \\nby\\n \\nArticle II, Section 1, Clauses 2 and \\n4\\n; and the\\n \\nTwelfth Amendment\\n \\n(which replaced \\nClause\\n \\n3 \\nafter its ratification in 1804). Under Clause\\n \\n2, each state \\ncasts as many electoral votes as the total number of its \\nSenators and Representatives in\\n \\nCongress\\n, while (per the \\nTwenty\\n-\\nthird Amendment, ratifie\\nd in 1961) Washington, \\nD.C., casts the same number of electoral votes as the least\\n-\\nrepresented state, which is three. Also under Clause\\n \\n2, the \\nmanner for choosing electors is determined by each\\n \\nstate \\nlegislature\\n, not directly by the federal government. Many \\nstate legislatures previously selected their electors directly, \\nbut over time all switched to using the\\n \\npopular vote\\n \\nto \\nchoose electors. Once chosen, electors generally cast their \\nelectoral votes for the candidate who won the\\n \\nplurality\\n \\nin \\ntheir state, but 18 states do not have provisions that \\nspecifically address this behavior; those who vote in \\nopposition to the plurality are known as \"\\nfa\\nithless\\n\" or \\n\"\\nunpledged\\n\" electors\\n.\\n \\nIn modern times, faithless and \\nun\\npledged electors have not affected the ultimate \\noutcome of an election, so the results can generally be \\ndetermined based on the state\\n-\\nby\\n-\\nstate popular vote. In \\naddition, most of the time, the winner of a US presidential \\nelection also wins the national popu\\nlar vote. There were \\nfour exceptions since all states had the electoral system we \\nknow today. They happened in 1876, 1888, 2000, and 2016 \\nand were all losses of three percentage points or less.\\n \\nPresidential elections\\n \\noccur\\n \\nquadrennially\\n \\nwith registered \\nvoters casting their ballots on\\n \\nElection Day\\n, which since \\n1845 has been the first Tuesday after November\\n.\\n \\nThis date \\ncoincides with the general elections of various other \\nfederal, state, and local races; since local governments are \\nresponsible for managing elections, these races typically all \\nappear on one ballot. The Electoral Colleg\\ne electors then \\nformally cast their electoral votes on the first Monday after \\nDecember 12 at their state\\'s capital. Congress then \\ncertifies the results in early January, and the presidential \\nterm begins on\\n \\nInauguration Day\\n, which since the passage \\nof the\\n \\nTwentieth Amendment\\n \\nhas been set at January 20.\\n \\nThe nomination process, consisting of the\\n \\nprimary \\nelec\\ntions and caucuses\\n \\nand the\\n \\nnominating conventions\\n, \\nwas not specified in the Constitution, but was developed\\n \\nover time by the states and\\n \\npolitical parties\\n. These primary \\nelections are generally held between January and June \\nbefore the \\ngeneral election in November, while the \\nnominating conventions are held in the summer. Though \\nnot codified by law, political parties also follow an indirect \\nelection process, where voters in the fifty states, \\nWashington, D.C., and\\n \\nU.S. territories\\n, cast ballots for a \\nslate of delegates to a political party\\'s nominating \\nconvention, who then elect their party\\'s presidential \\nnominee. Each party may then choose a vice \\npresidential\\n \\nrunning mate\\n \\nto join the ticket, which is either \\ndetermined by choice of the nominee or by a second \\nround of voting. Because of changes to national campaign \\nfinance laws since the 1970s regarding the disclosure of \\ncontributions for federal campaigns, \\npresidential \\ncandidates from the major political parties usually declare \\ntheir intentions to run as early as the spring of the \\nprevious calendar year before the election (almost 21 \\nmonths before Inauguration Day)\\n.\\n \\n \\nPopular vote\\n \\nSince 1824, aside from the occasional \"faithless elector\", \\nthe popular vote determines the winner of a presidential \\nelection by determining the electoral vote, as each\\n \\nstate or \\ndistrict\\'s popular vote determines its electoral college vote. \\nAlthough the nationwide popular vote does not directly \\ndetermine the winner of a presidential election, it does \\nstrongly correlate with who is the victor. In 53 of the 58 \\ntotal electi\\nons held so far (about 91 percent), the winner of \\nthe national popular vote has also carried the Electoral \\nCollege vote. The winners of the nationwide popular vote \\nand the Electoral College vote differ only in close elections. \\nIn highly competitive electio\\nns, candidates focus on \\nturning out their vote in the contested swing states critical \\nto winning an electoral college majority, so they do not try \\nto maximize their popular vote by real or fraudulent vote \\nincreases in one\\n-\\nparty areas.\\n \\n \\nHowever, candidates can fail to get the most votes in the \\nnationwide popular vote in a presidential election and still \\nwin. In the 1824 election, Jackson won the popular vot\\ne, \\nbut no one received a majority of electoral votes. \\nAccording to the Twelfth Amendment, the House must \\nchoose the president out of the top three people in the \\nelection. Clay had come in fourth, so he threw his support \\nto Adams, who then won. Because Adam\\ns later named \\nClay his Secretary of State, Jackson\\'s supporters claimed \\nthat Adams gained the presidency by making a deal with \\nClay. Charges of a \"corrupt bargain\" followed Adams \\nthrough his term.\\n \\nThen in\\n \\n1876\\n,\\n \\n1888\\n,\\n \\n2000\\n, and\\n \\n2016\\n, the winner of the \\nelectoral vote lost the popular vote outright. \\nNumerous\\n \\nconstitutional amendments\\n \\nhave been \\nsubmitted seeking to replace the Electoral College with a \\ndirect popular vote, but none has \\never successfully passed \\nboth Houses of Congress. Another alternate proposal is \\nthe\\n \\nNational Popular Vote Interstate Compac\\nt\\n, \\nan\\n \\ninterstate compact\\n \\nwhereby individual participating \\nstates agree to allocate their electors based on the winner \\nof the national popular vote instead of just thei\\nr respective \\nstatewide results.\\n \\nElection dates\\n \\nThe presidential election day was established on a Tuesday \\nin November because of the factors involved (weather, \\nharvests and worship). When voters used to travel to the \\npolls by horse, Tuesday was an ideal da\\ny because it \\nallowed people to worship on Sunday, ride to their\\n \\ncounty \\nseat\\n \\non Monday, and vote on Tuesday\\n\\nall before market \\nday, Wednesday. November also fits nicely between \\nharves\\nt time and harsh winter weather, which could be \\nespecially bad to people traveling by\\n \\nhorse and buggy\\n.\\n \\n \\nInauguration day\\n \\nUntil 1937, presidents were not sworn in until March 4 \\nbecause it took so long to count and report ballots, and \\nbecause of the winner\\'s logistical issues in moving to the \\ncapital. With improvements in transportation and the \\npassage of the\\n \\nTwentieth Amendment\\n, presidential \\ninaugurations were moved forward to noon on January 20, \\nthereby allowing preside\\nnts to start their duties sooner\\n.\\n \\n \\nCampaign spending\\n \\nThe\\n \\nFederal Election Campaign Act of 1971\\n \\nwas enacted to \\nincrease disclosure of\\n \\ncontributio\\nns for federal campaigns\\n. \\nSubsequent amendments to law require that candidates to \\na federal office must file a Statement of Candidacy with \\nthe\\n \\nFedera\\nl Election Commission\\n \\nbefore they can receive \\ncontributions aggregating in excess of $5,000 or make \\nexpenditures aggregating in excess of $5,000. Thus, this \\nbegan a trend of presidential candidates declaring their \\n'\n"
          ],
          "name": "stdout"
        }
      ]
    },
    {
      "cell_type": "code",
      "metadata": {
        "id": "67NA0IWFXbJC",
        "outputId": "539f8ef3-47ec-4e44-a18d-f5203bf6fad7",
        "colab": {
          "base_uri": "https://localhost:8080/"
        }
      },
      "source": [
        "import re\n",
        "keywords = re.findall(r'[a-zA-Z]\\w+',str)\n",
        "len(keywords)    #Total keywords in document"
      ],
      "execution_count": 133,
      "outputs": [
        {
          "output_type": "execute_result",
          "data": {
            "text/plain": [
              "1680"
            ]
          },
          "metadata": {
            "tags": []
          },
          "execution_count": 133
        }
      ]
    },
    {
      "cell_type": "code",
      "metadata": {
        "id": "72rKbF8ycQYO"
      },
      "source": [
        "import numpy as np\n",
        "import pandas as pd"
      ],
      "execution_count": 134,
      "outputs": []
    },
    {
      "cell_type": "code",
      "metadata": {
        "id": "GoIGVhN5cGcS"
      },
      "source": [
        "df = pd.DataFrame(list(set(keywords)),columns=['keywords'])   #Dataframe with unique keywords to avoid repetition in rows"
      ],
      "execution_count": 135,
      "outputs": []
    },
    {
      "cell_type": "markdown",
      "metadata": {
        "id": "DsTEJLRnjvdD"
      },
      "source": [
        "# calculate frequently used keywords"
      ]
    },
    {
      "cell_type": "code",
      "metadata": {
        "id": "1C4-FsXyc4_J"
      },
      "source": [
        "def weightage(word,str,number_of_documents=1):\n",
        "    word_list = re.findall(word,str)\n",
        "    number_of_times_word_appeared =len(word_list)\n",
        "    tf = number_of_times_word_appeared/float(len(str))\n",
        "    idf = np.log((number_of_documents)/float(number_of_times_word_appeared))\n",
        "    tf_idf = tf*idf\n",
        "    return number_of_times_word_appeared,tf,idf ,tf_idf"
      ],
      "execution_count": 136,
      "outputs": []
    },
    {
      "cell_type": "code",
      "metadata": {
        "id": "Zi7FK9VJc_4C"
      },
      "source": [
        "df['number_of_times_word_appeared'] = df['keywords'].apply(lambda x: weightage(x,str)[0])\n",
        "df['tf'] = df['keywords'].apply(lambda x: weightage(x,str)[1])\n",
        "df['idf'] = df['keywords'].apply(lambda x: weightage(x,str)[2])\n",
        "df['tf_idf'] = df['keywords'].apply(lambda x: weightage(x,str)[3])"
      ],
      "execution_count": 137,
      "outputs": []
    },
    {
      "cell_type": "code",
      "metadata": {
        "id": "HG6dFCkmeMus",
        "outputId": "7a2eb9df-87e4-49f6-da9f-1d80793883b6",
        "colab": {
          "base_uri": "https://localhost:8080/"
        }
      },
      "source": [
        "df = df.sort_values('tf_idf',ascending=False)\n",
        "df.to_csv('Keywords.csv')\n",
        "df.shape"
      ],
      "execution_count": 138,
      "outputs": [
        {
          "output_type": "execute_result",
          "data": {
            "text/plain": [
              "(681, 5)"
            ]
          },
          "metadata": {
            "tags": []
          },
          "execution_count": 138
        }
      ]
    },
    {
      "cell_type": "code",
      "metadata": {
        "id": "GF7qQRZb8KPN",
        "outputId": "ab4d86c3-0872-43a7-ea31-7d36238ef0ea",
        "colab": {
          "base_uri": "https://localhost:8080/"
        }
      },
      "source": [
        "print(df)"
      ],
      "execution_count": 139,
      "outputs": [
        {
          "output_type": "stream",
          "text": [
            "     keywords  number_of_times_word_appeared        tf       idf    tf_idf\n",
            "0        Thus                              1  0.000087  0.000000  0.000000\n",
            "356    victor                              1  0.000087  0.000000  0.000000\n",
            "402     areas                              1  0.000087  0.000000  0.000000\n",
            "401  consists                              1  0.000087  0.000000  0.000000\n",
            "399  approach                              1  0.000087  0.000000  0.000000\n",
            "..        ...                            ...       ...       ...       ...\n",
            "137        on                            133  0.011605 -4.890349 -0.056750\n",
            "188       the                            162  0.014135 -5.087596 -0.071913\n",
            "442        in                            178  0.015531 -5.181784 -0.080478\n",
            "123        he                            200  0.017450 -5.298317 -0.092458\n",
            "308        th                            201  0.017538 -5.303305 -0.093008\n",
            "\n",
            "[681 rows x 5 columns]\n"
          ],
          "name": "stdout"
        }
      ]
    },
    {
      "cell_type": "code",
      "metadata": {
        "id": "fzGumlZH8Y0C"
      },
      "source": [
        ""
      ],
      "execution_count": null,
      "outputs": []
    }
  ]
}